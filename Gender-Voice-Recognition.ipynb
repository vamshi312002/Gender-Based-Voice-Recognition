{
 "cells": [
  {
   "cell_type": "code",
   "execution_count": 1,
   "id": "f17ec93a",
   "metadata": {},
   "outputs": [],
   "source": [
    "import os\n",
    "import numpy as np\n",
    "import librosa\n",
    "from sklearn.model_selection import train_test_split\n",
    "from sklearn.preprocessing import LabelEncoder\n",
    "from sklearn.metrics import accuracy_score,precision_score,recall_score,f1_score,classification_report\n",
    "from numpy.lib.arraypad import pad\n",
    "from python_speech_features import mfcc"
   ]
  },
  {
   "cell_type": "code",
   "execution_count": 2,
   "id": "b74a11e6",
   "metadata": {},
   "outputs": [],
   "source": [
    "audio_path = 'G:\\Voice Dataset'\n",
    "audio_paths = [os.path.join(audio_path, f) for f in os.listdir(audio_path)]"
   ]
  },
  {
   "cell_type": "code",
   "execution_count": 3,
   "id": "936d9c52",
   "metadata": {},
   "outputs": [],
   "source": [
    "def extract_features(audio_path):\n",
    "    signal, rate = librosa.load(audio_path, sr=16000)\n",
    "    mfcc_feat = mfcc(signal, rate, numcep=13, nfilt=26, nfft=512)\n",
    "    return mfcc_feat"
   ]
  },
  {
   "cell_type": "code",
   "execution_count": 4,
   "id": "c99dd187",
   "metadata": {},
   "outputs": [],
   "source": [
    "def get_labels(audio_path):\n",
    "    labels = []\n",
    "    for file in os.listdir(audio_path):\n",
    "        if file.endswith('.wav'):\n",
    "            label = file[0]  # Extract the first character of the file name as the label\n",
    "            if label == 'u':  # If 'u' is present, skip this label\n",
    "                continue\n",
    "            if label == 'f':  # If the label is 'f' then  it is female\n",
    "                label = 'female'\n",
    "            elif label == 'm':  # If 'm'  it is male\n",
    "                label = 'male'\n",
    "            labels.append(label)\n",
    "    return np.array(labels)"
   ]
  },
  {
   "cell_type": "code",
   "execution_count": 5,
   "id": "57d8e1b4",
   "metadata": {},
   "outputs": [],
   "source": [
    "# Extract MFCC features from the audio files\n",
    "features = [extract_features(audio_path) for audio_path in audio_paths]"
   ]
  },
  {
   "cell_type": "code",
   "execution_count": 6,
   "id": "ea43b951",
   "metadata": {},
   "outputs": [],
   "source": [
    "# Determine the maximum length of the features\n",
    "max_len = max([len(f) for f in features])"
   ]
  },
  {
   "cell_type": "code",
   "execution_count": 7,
   "id": "72cdff1a",
   "metadata": {},
   "outputs": [],
   "source": [
    "# Pad features with zeros to the maximum length\n",
    "X = np.zeros((len(features), max_len, 13))\n",
    "for i, f in enumerate(features):\n",
    "    X[i, :len(f), :] = f"
   ]
  },
  {
   "cell_type": "code",
   "execution_count": 8,
   "id": "164069f4",
   "metadata": {},
   "outputs": [],
   "source": [
    "X_flat = X.reshape(X.shape[0], -1)"
   ]
  },
  {
   "cell_type": "code",
   "execution_count": 9,
   "id": "a525783d",
   "metadata": {},
   "outputs": [
    {
     "data": {
      "text/plain": [
       "(3842, 12987)"
      ]
     },
     "execution_count": 9,
     "metadata": {},
     "output_type": "execute_result"
    }
   ],
   "source": [
    "X_flat.shape"
   ]
  },
  {
   "cell_type": "code",
   "execution_count": 10,
   "id": "4f129557",
   "metadata": {},
   "outputs": [],
   "source": [
    "y = get_labels(audio_path)"
   ]
  },
  {
   "cell_type": "code",
   "execution_count": 11,
   "id": "742fcde0",
   "metadata": {},
   "outputs": [
    {
     "data": {
      "text/plain": [
       "(3842,)"
      ]
     },
     "execution_count": 11,
     "metadata": {},
     "output_type": "execute_result"
    }
   ],
   "source": [
    "y.shape"
   ]
  },
  {
   "cell_type": "code",
   "execution_count": 12,
   "id": "ecb60b5f",
   "metadata": {},
   "outputs": [
    {
     "name": "stdout",
     "output_type": "stream",
     "text": [
      "['female' 'female' 'female' ... 'male' 'male' 'male']\n"
     ]
    }
   ],
   "source": [
    "print(y)"
   ]
  },
  {
   "cell_type": "code",
   "execution_count": 13,
   "id": "e37853c0",
   "metadata": {},
   "outputs": [
    {
     "name": "stdout",
     "output_type": "stream",
     "text": [
      "Number of males: 1656\n",
      "Number of females: 2186\n"
     ]
    }
   ],
   "source": [
    "num_male = np.sum(y == \"male\")  \n",
    "num_female = np.sum(y == \"female\")  \n",
    "print(\"Number of males:\", num_male)\n",
    "print(\"Number of females:\", num_female)"
   ]
  },
  {
   "cell_type": "code",
   "execution_count": 14,
   "id": "d65ab0cd",
   "metadata": {},
   "outputs": [],
   "source": [
    "le = LabelEncoder()\n",
    "y = le.fit_transform(y)"
   ]
  },
  {
   "cell_type": "code",
   "execution_count": 15,
   "id": "0f8c731d",
   "metadata": {},
   "outputs": [
    {
     "data": {
      "text/plain": [
       "array([0, 0, 0, ..., 1, 1, 1], dtype=int64)"
      ]
     },
     "execution_count": 15,
     "metadata": {},
     "output_type": "execute_result"
    }
   ],
   "source": [
    "y"
   ]
  },
  {
   "cell_type": "code",
   "execution_count": 16,
   "id": "9335e949",
   "metadata": {},
   "outputs": [
    {
     "name": "stdout",
     "output_type": "stream",
     "text": [
      "Number of males: 1656\n",
      "Number of females: 2186\n"
     ]
    }
   ],
   "source": [
    "males=np.sum(y == 1)   #1 is male\n",
    "females=np.sum(y ==0)  #0 is female\n",
    "print(\"Number of males:\",males)\n",
    "print(\"Number of females:\",females)"
   ]
  },
  {
   "cell_type": "code",
   "execution_count": 17,
   "id": "23e62e67",
   "metadata": {},
   "outputs": [],
   "source": [
    "X_train, X_test, y_train, y_test = train_test_split(X_flat, y, test_size=0.2, random_state=42,stratify=y)"
   ]
  },
  {
   "cell_type": "code",
   "execution_count": 18,
   "id": "107c256e",
   "metadata": {},
   "outputs": [
    {
     "name": "stdout",
     "output_type": "stream",
     "text": [
      "Accuracy of SVM: 0.976592977893368\n",
      "Precision of SVM: 0.9815384615384616\n",
      "Recall of SVM: 0.9637462235649547\n",
      "F1-Score of SVM: 0.9725609756097561\n"
     ]
    }
   ],
   "source": [
    "from sklearn.svm import SVC\n",
    "svm_model = SVC(kernel='linear', C=1.0, random_state=42)\n",
    "svm_model.fit(X_train, y_train)\n",
    "y_pred = svm_model.predict(X_test)\n",
    "# Evaluate the performance of the model\n",
    "acc = accuracy_score(y_test, y_pred)\n",
    "print('Accuracy of SVM:', acc)\n",
    "\n",
    "pre = precision_score(y_test, y_pred)\n",
    "print('Precision of SVM:', pre)\n",
    "\n",
    "rec = recall_score(y_test, y_pred)\n",
    "print('Recall of SVM:', rec)\n",
    "\n",
    "f1 = f1_score(y_test, y_pred)\n",
    "print('F1-Score of SVM:', f1)\n"
   ]
  },
  {
   "cell_type": "code",
   "execution_count": 19,
   "id": "28189163",
   "metadata": {},
   "outputs": [
    {
     "name": "stdout",
     "output_type": "stream",
     "text": [
      "              precision    recall  f1-score   support\n",
      "\n",
      "           0       0.97      0.99      0.98       438\n",
      "           1       0.98      0.96      0.97       331\n",
      "\n",
      "    accuracy                           0.98       769\n",
      "   macro avg       0.98      0.98      0.98       769\n",
      "weighted avg       0.98      0.98      0.98       769\n",
      "\n"
     ]
    }
   ],
   "source": [
    "report = classification_report(y_test, y_pred)\n",
    "print(report)"
   ]
  },
  {
   "cell_type": "code",
   "execution_count": null,
   "id": "0c3820b1",
   "metadata": {},
   "outputs": [],
   "source": []
  }
 ],
 "metadata": {
  "kernelspec": {
   "display_name": "Python 3 (ipykernel)",
   "language": "python",
   "name": "python3"
  },
  "language_info": {
   "codemirror_mode": {
    "name": "ipython",
    "version": 3
   },
   "file_extension": ".py",
   "mimetype": "text/x-python",
   "name": "python",
   "nbconvert_exporter": "python",
   "pygments_lexer": "ipython3",
   "version": "3.9.12"
  }
 },
 "nbformat": 4,
 "nbformat_minor": 5
}
