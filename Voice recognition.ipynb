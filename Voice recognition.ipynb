{
 "cells": [
  {
   "cell_type": "code",
   "execution_count": 39,
   "id": "c92e2572",
   "metadata": {},
   "outputs": [],
   "source": [
    "import os\n",
    "import numpy as np\n",
    "import python_speech_features as psf\n",
    "from sklearn.model_selection import train_test_split\n",
    "from sklearn.preprocessing import LabelEncoder\n",
    "from sklearn.svm import SVC\n",
    "from sklearn.metrics import accuracy_score\n",
    "from numpy.lib.arraypad import pad\n",
    "import librosa\n",
    "from python_speech_features import mfcc\n",
    "import seaborn as sns"
   ]
  },
  {
   "cell_type": "code",
   "execution_count": 2,
   "id": "f5d000d2",
   "metadata": {},
   "outputs": [],
   "source": [
    "audio_path = 'G:\\Voice Dataset'\n",
    "audio_paths = [os.path.join(audio_path, f) for f in os.listdir(audio_path)]"
   ]
  },
  {
   "cell_type": "code",
   "execution_count": 3,
   "id": "fd10725e",
   "metadata": {},
   "outputs": [],
   "source": [
    "def extract_features(audio_path):\n",
    "    signal, rate = librosa.load(audio_path, sr=16000)\n",
    "    mfcc_feat = mfcc(signal, rate, numcep=13, nfilt=26, nfft=512)\n",
    "    return mfcc_feat"
   ]
  },
  {
   "cell_type": "code",
   "execution_count": 4,
   "id": "86b66b5e",
   "metadata": {},
   "outputs": [],
   "source": [
    "def get_labels(audio_path):\n",
    "    labels = []\n",
    "    for file in os.listdir(audio_path):\n",
    "        if file.endswith('.wav'):\n",
    "            label = file[0]  # Extract the first character of the file name as the label\n",
    "            if label == 'u':  # If 'u' is present, skip this label\n",
    "                continue\n",
    "            if label == 'f':  # If the label is 'f', it is female\n",
    "                label = 'female'\n",
    "            elif label == 'm':  # If the label is 'm', it is male\n",
    "                label = 'male'\n",
    "            labels.append(label)\n",
    "    return np.array(labels)"
   ]
  },
  {
   "cell_type": "code",
   "execution_count": 5,
   "id": "48ccd6aa",
   "metadata": {},
   "outputs": [],
   "source": [
    "# Extract MFCC features from the audio files\n",
    "features = [extract_features(audio_path) for audio_path in audio_paths]\n",
    "\n",
    "# Determine the maximum length of the features\n",
    "max_len = max([len(f) for f in features])\n",
    "\n",
    "# Pad features with zeros to the maximum length\n",
    "X = np.zeros((len(features), max_len, 13))\n",
    "for i, f in enumerate(features):\n",
    "    X[i, :len(f), :] = f"
   ]
  },
  {
   "cell_type": "code",
   "execution_count": 6,
   "id": "d36d5600",
   "metadata": {},
   "outputs": [],
   "source": [
    "X_flat = X.reshape(X.shape[0], -1)"
   ]
  },
  {
   "cell_type": "code",
   "execution_count": 7,
   "id": "7314974d",
   "metadata": {},
   "outputs": [],
   "source": [
    "y = get_labels(audio_path)"
   ]
  },
  {
   "cell_type": "code",
   "execution_count": 11,
   "id": "cc11e1eb",
   "metadata": {},
   "outputs": [
    {
     "data": {
      "text/plain": [
       "(3842,)"
      ]
     },
     "execution_count": 11,
     "metadata": {},
     "output_type": "execute_result"
    }
   ],
   "source": [
    "y.shape"
   ]
  },
  {
   "cell_type": "code",
   "execution_count": 12,
   "id": "c26e46e0",
   "metadata": {},
   "outputs": [],
   "source": [
    "le = LabelEncoder()\n",
    "y = le.fit_transform(y)"
   ]
  },
  {
   "cell_type": "code",
   "execution_count": 13,
   "id": "92842d07",
   "metadata": {},
   "outputs": [
    {
     "data": {
      "text/plain": [
       "array([0, 0, 0, ..., 1, 1, 1], dtype=int64)"
      ]
     },
     "execution_count": 13,
     "metadata": {},
     "output_type": "execute_result"
    }
   ],
   "source": [
    "y"
   ]
  },
  {
   "cell_type": "code",
   "execution_count": 14,
   "id": "8ed47252",
   "metadata": {},
   "outputs": [],
   "source": [
    "X_train, X_test, y_train, y_test = train_test_split(X_flat, y, test_size=0.2, random_state=42,stratify=y)"
   ]
  },
  {
   "cell_type": "code",
   "execution_count": 15,
   "id": "7184c00f",
   "metadata": {},
   "outputs": [],
   "source": [
    "from sklearn.metrics import classification_report,confusion_matrix,accuracy_score,precision_recall_fscore_support\n",
    "from sklearn.metrics import f1_score\n",
    "from sklearn.ensemble import RandomForestClassifier,ExtraTreesClassifier\n",
    "from sklearn.tree import DecisionTreeClassifier\n",
    "import xgboost as xgb\n",
    "from xgboost import plot_importance"
   ]
  },
  {
   "cell_type": "code",
   "execution_count": 16,
   "id": "9a98a077",
   "metadata": {},
   "outputs": [
    {
     "name": "stdout",
     "output_type": "stream",
     "text": [
      "Accuracy of XGBoost: 0.8972691807542262\n",
      "Precision of XGBoost: 0.8997074611105136\n",
      "Recall of XGBoost: 0.8972691807542262\n",
      "F1-score of XGBoost: 0.8963099697050407\n"
     ]
    }
   ],
   "source": [
    "xg = xgb.XGBClassifier(n_estimators = 10)\n",
    "xg.fit(X_train,y_train)\n",
    "xg_score=xg.score(X_test,y_test)\n",
    "y_predict=xg.predict(X_test)\n",
    "y_true=y_test\n",
    "print('Accuracy of XGBoost: '+ str(xg_score))\n",
    "precision,recall,fscore,none= precision_recall_fscore_support(y_true, y_predict, average='weighted') \n",
    "print('Precision of XGBoost: '+(str(precision)))\n",
    "print('Recall of XGBoost: '+(str(recall)))\n",
    "print('F1-score of XGBoost: '+(str(fscore)))"
   ]
  },
  {
   "cell_type": "code",
   "execution_count": 20,
   "id": "ef61f97f",
   "metadata": {},
   "outputs": [
    {
     "name": "stdout",
     "output_type": "stream",
     "text": [
      "100%|██████████████████████████████████████████████| 20/20 [52:08<00:00, 156.40s/trial, best loss: -0.9596879063719116]\n",
      "XGBoost: Hyperopt estimated optimum {'learning_rate': -0.3722009751296153, 'max_depth': 78.0, 'n_estimators': 70.0}\n"
     ]
    }
   ],
   "source": [
    "from hyperopt import hp, fmin, tpe, STATUS_OK, Trials\n",
    "from sklearn.model_selection import cross_val_score, StratifiedKFold\n",
    "def objective(params):\n",
    "    params = {\n",
    "        'n_estimators': int(params['n_estimators']), \n",
    "        'max_depth': int(params['max_depth']),\n",
    "        'learning_rate':  abs(float(params['learning_rate'])),\n",
    "\n",
    "    }\n",
    "    clf = xgb.XGBClassifier( **params)\n",
    "    clf.fit(X_train, y_train)\n",
    "    y_pred = clf.predict(X_test)\n",
    "    score = accuracy_score(y_test, y_pred)\n",
    "\n",
    "    return {'loss':-score, 'status': STATUS_OK }\n",
    "\n",
    "space = {\n",
    "    'n_estimators': hp.quniform('n_estimators', 10, 100, 5),\n",
    "    'max_depth': hp.quniform('max_depth', 4, 100, 1),\n",
    "    'learning_rate': hp.normal('learning_rate', 0.01, 0.9),\n",
    "}\n",
    "\n",
    "best = fmin(fn=objective,\n",
    "            space=space,\n",
    "            algo=tpe.suggest,\n",
    "            max_evals=20)\n",
    "print(\"XGBoost: Hyperopt estimated optimum {}\".format(best))"
   ]
  },
  {
   "cell_type": "code",
   "execution_count": 44,
   "id": "f21e5bab",
   "metadata": {},
   "outputs": [
    {
     "name": "stdout",
     "output_type": "stream",
     "text": [
      "Accuracy of XGBoost: 0.9596879063719116\n",
      "Precision of XGBoost: 0.9599099175743815\n",
      "Recall of XGBoost: 0.9596879063719116\n",
      "F1-score of XGBoost: 0.9595972902570293\n",
      "              precision    recall  f1-score   support\n",
      "\n",
      "           0       0.95      0.98      0.97       438\n",
      "           1       0.97      0.94      0.95       331\n",
      "\n",
      "    accuracy                           0.96       769\n",
      "   macro avg       0.96      0.96      0.96       769\n",
      "weighted avg       0.96      0.96      0.96       769\n",
      "\n"
     ]
    }
   ],
   "source": [
    "xg = xgb.XGBClassifier(learning_rate= 0.3722009751296153, n_estimators = 70, max_depth =78)\n",
    "xg.fit(X_train,y_train)\n",
    "xg_score=xg.score(X_test,y_test)\n",
    "y_predict=xg.predict(X_test)\n",
    "y_true=y_test\n",
    "print('Accuracy of XGBoost: '+ str(xg_score))\n",
    "precision,recall,fscore,none= precision_recall_fscore_support(y_true, y_predict, average='weighted') \n",
    "print('Precision of XGBoost: '+(str(precision)))\n",
    "print('Recall of XGBoost: '+(str(recall)))\n",
    "print('F1-score of XGBoost: '+(str(fscore)))\n",
    "print(classification_report(y_true,y_predict))\n",
    "cm=confusion_matrix(y_true,y_predict)"
   ]
  },
  {
   "cell_type": "code",
   "execution_count": 17,
   "id": "8396b76e",
   "metadata": {},
   "outputs": [
    {
     "name": "stdout",
     "output_type": "stream",
     "text": [
      "Accuracy of RF: 0.9453836150845254\n",
      "Precision of RF: 0.9466979228249629\n",
      "Recall of RF: 0.9453836150845254\n",
      "F1-score of RF: 0.9450845661221878\n",
      "              precision    recall  f1-score   support\n",
      "\n",
      "           0       0.93      0.98      0.95       438\n",
      "           1       0.97      0.90      0.93       331\n",
      "\n",
      "    accuracy                           0.95       769\n",
      "   macro avg       0.95      0.94      0.94       769\n",
      "weighted avg       0.95      0.95      0.95       769\n",
      "\n"
     ]
    }
   ],
   "source": [
    "# Random Forest training and prediction\n",
    "rf = RandomForestClassifier(random_state = 0)\n",
    "rf.fit(X_train,y_train) \n",
    "rf_score=rf.score(X_test,y_test)\n",
    "y_predict=rf.predict(X_test)\n",
    "y_true=y_test\n",
    "print('Accuracy of RF: '+ str(rf_score))\n",
    "precision,recall,fscore,none= precision_recall_fscore_support(y_true, y_predict, average='weighted') \n",
    "print('Precision of RF: '+(str(precision)))\n",
    "print('Recall of RF: '+(str(recall)))\n",
    "print('F1-score of RF: '+(str(fscore)))\n",
    "print(classification_report(y_true,y_predict))"
   ]
  },
  {
   "cell_type": "code",
   "execution_count": 33,
   "id": "a399f6c4",
   "metadata": {},
   "outputs": [
    {
     "name": "stdout",
     "output_type": "stream",
     "text": [
      "Accuracy of SVM: 0.976592977893368\n",
      "Precision of SVM: 0.9766598087534368\n",
      "Recall of SVM: 0.976592977893368\n",
      "F1-score of SVM: 0.9765655493064047\n",
      "              precision    recall  f1-score   support\n",
      "\n",
      "           0       0.97      0.99      0.98       438\n",
      "           1       0.98      0.96      0.97       331\n",
      "\n",
      "    accuracy                           0.98       769\n",
      "   macro avg       0.98      0.98      0.98       769\n",
      "weighted avg       0.98      0.98      0.98       769\n",
      "\n"
     ]
    }
   ],
   "source": [
    "svm = SVC(kernel='linear', C=1.0, random_state=42)\n",
    "svm.fit(X_train,y_train)\n",
    "svm_score=svm.score(X_test,y_test)\n",
    "y_predict=svm.predict(X_test)\n",
    "y_true=y_test\n",
    "print('Accuracy of SVM: '+ str(svm_score))\n",
    "precision,recall,fscore,none= precision_recall_fscore_support(y_true, y_predict, average='weighted') \n",
    "print('Precision of SVM: '+(str(precision)))\n",
    "print('Recall of SVM: '+(str(recall)))\n",
    "print('F1-score of SVM: '+(str(fscore)))\n",
    "print(classification_report(y_true,y_predict))\n",
    "cm=confusion_matrix(y_true,y_predict)"
   ]
  },
  {
   "cell_type": "code",
   "execution_count": 34,
   "id": "2aa8c69b",
   "metadata": {},
   "outputs": [
    {
     "data": {
      "text/plain": [
       "array([[432,   6],\n",
       "       [ 12, 319]], dtype=int64)"
      ]
     },
     "execution_count": 34,
     "metadata": {},
     "output_type": "execute_result"
    }
   ],
   "source": [
    "cm"
   ]
  },
  {
   "cell_type": "code",
   "execution_count": null,
   "id": "ed34204b",
   "metadata": {},
   "outputs": [],
   "source": []
  }
 ],
 "metadata": {
  "kernelspec": {
   "display_name": "Python 3 (ipykernel)",
   "language": "python",
   "name": "python3"
  },
  "language_info": {
   "codemirror_mode": {
    "name": "ipython",
    "version": 3
   },
   "file_extension": ".py",
   "mimetype": "text/x-python",
   "name": "python",
   "nbconvert_exporter": "python",
   "pygments_lexer": "ipython3",
   "version": "3.9.12"
  }
 },
 "nbformat": 4,
 "nbformat_minor": 5
}
